{
 "cells": [
  {
   "cell_type": "markdown",
   "metadata": {},
   "source": [
    "# Tutorial 00 - getting setup"
   ]
  },
  {
   "cell_type": "markdown",
   "metadata": {},
   "source": [
    "## Installing Anaconda\n",
    "To start with, we need to install Anaconda and the required packages. Anaconda is a package manager for python with a focus on scientific computing. Install for your OS by downloading from here: https://www.anaconda.com/distribution/#macos\n",
    "\n",
    "It should look something like this:\n",
    "\n",
    "![](conda_download.png)"
   ]
  },
  {
   "cell_type": "markdown",
   "metadata": {},
   "source": [
    "We want to download the python 3.7 (or whatever the newest python 3.X version is at the time). Once the install is complete, make sure you can access conda on your path by typing:\n",
    "```\n",
    "$ conda\n",
    "\n",
    "conda\n",
    "usage: conda [-h] [-V] command ...\n",
    "\n",
    "conda is a tool for managing and deploying applications, environments and packages.\n",
    "\n",
    "Options:\n",
    "\n",
    "positional arguments:\n",
    "  command\n",
    "    clean        Remove unused packages and caches.\n",
    "    config       Modify configuration values in .condarc. This is modeled\n",
    "                 after the git config command. Writes to the user .condarc\n",
    "                 file (/Users/jdb/.condarc) by default.\n",
    "    create       Create a new conda environment from a list of specified\n",
    "                 packages.\n",
    "    help         Displays a list of available conda commands and their help\n",
    "                 strings.\n",
    "    info         Display information about current conda install.\n",
    "    init         Initialize conda for shell interaction. [Experimental]\n",
    "    install      Installs a list of packages into a specified conda\n",
    "                 environment.\n",
    "    list         List linked packages in a conda environment.\n",
    "    package      Low-level conda package utility. (EXPERIMENTAL)\n",
    "    remove       Remove a list of packages from a specified conda environment.\n",
    "    uninstall    Alias for conda remove.\n",
    "    run          Run an executable in a conda environment. [Experimental]\n",
    "    search       Search for packages and display associated information. The\n",
    "                 input is a MatchSpec, a query language for conda packages.\n",
    "                 See examples below.\n",
    "    update       Updates conda packages to the latest compatible version.\n",
    "    upgrade      Alias for conda update.\n",
    "\n",
    "optional arguments:\n",
    "  -h, --help     Show this help message and exit.\n",
    "  -V, --version  Show the conda version number and exit.\n",
    "\n",
    "conda commands available from other packages:\n",
    "  env\n",
    "```"
   ]
  },
  {
   "cell_type": "markdown",
   "metadata": {},
   "source": [
    "## Installing packages\n",
    "OK now we are ready to install the packages that we need:\n",
    "\n",
    "\n",
    "IF (optional) you want jupyter-lab, the web-based python notebook environment then install it now\n",
    "```\n",
    "conda config --add channels conda-forge   # if you haven't added conda-forge already\n",
    "conda install -c conda-forge jupyterlab\n",
    "```\n",
    "\n",
    "We need the upROOT library for opening and reading ROOT TTrees and histogram data:\n",
    "```\n",
    "conda install -c conda-forge uproot\n",
    "```\n",
    "\n",
    "NOTE: you can permanently add the `conda-forge` channel so that you don't need to repeat `-c conda-forge` over and over:\n",
    "```\n",
    "conda config --add channels conda-forge   # if you haven't added conda-forge already\n",
    "```\n"
   ]
  },
  {
   "cell_type": "markdown",
   "metadata": {},
   "source": [
    "Lots of great tutorials and resources exist to learn Python / Jupyter Notebooks / conda\n",
    "Jupyter Notebooks:\n",
    "- https://jupyter.readthedocs.io/en/latest/install.html\n",
    "- Try it in your browser: https://try.jupyter.org/\n",
    "- Jupyter Documentation : https://jupyter.readthedocs.io/en/latest/index.html\n",
    "  \n",
    "Learning Python for scientific analysis :\n",
    "- Using libraries in Jupyter Notebooks : https://github.com/jrjohansson/scientific-python-lectures"
   ]
  },
  {
   "cell_type": "markdown",
   "metadata": {},
   "source": [
    "## On RCF"
   ]
  },
  {
   "cell_type": "markdown",
   "metadata": {},
   "source": [
    "I have setup an anaconda installation on RCF that everyone can use, just run (or add to login script) :\n",
    "```\n",
    "setenv PATH \"/star/data03/pwg/jdb/ML/anaconda3/bin:$PATH\"\n",
    "```"
   ]
  },
  {
   "cell_type": "code",
   "execution_count": null,
   "metadata": {},
   "outputs": [],
   "source": []
  }
 ],
 "metadata": {
  "kernelspec": {
   "display_name": "Python 3",
   "language": "python",
   "name": "python3"
  },
  "language_info": {
   "codemirror_mode": {
    "name": "ipython",
    "version": 3
   },
   "file_extension": ".py",
   "mimetype": "text/x-python",
   "name": "python",
   "nbconvert_exporter": "python",
   "pygments_lexer": "ipython3",
   "version": "3.6.7"
  }
 },
 "nbformat": 4,
 "nbformat_minor": 2
}
